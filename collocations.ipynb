{
 "cells": [
  {
   "cell_type": "code",
   "execution_count": 62,
   "metadata": {
    "collapsed": true
   },
   "outputs": [],
   "source": [
    "import pandas as pd\n",
    "import nltk\n",
    "from nltk.collocations import *\n",
    "from nltk.metrics.spearman import *"
   ]
  },
  {
   "cell_type": "code",
   "execution_count": 63,
   "metadata": {},
   "outputs": [],
   "source": [
    "df = pd.read_csv('court-V-N.csv') # корпус размером в 1020 слов\n",
    "rows = list(map(list, df.values))\n",
    "bigram_measures = nltk.collocations.BigramAssocMeasures()\n",
    "finder = BigramCollocationFinder.from_documents(rows)\n"
   ]
  },
  {
   "cell_type": "code",
   "execution_count": 75,
   "metadata": {},
   "outputs": [],
   "source": [
    "#золотой стандарт в порядке по рангу (первая коллокация - самая сильная)\n",
    "golden_stand = [('ВЫНЕСТИ', 'РЕШЕНИЕ'), ('ВЫНЕСТИ', 'ПРИГОВОР'), ('УДОВЛЕТВОРИТЬ', 'ХОДАТАЙСТВО'), \n",
    "                ('ВЫДАТЬ', 'САНКЦИЯ'), ('ПРИНЯТЬ', 'РЕШЕНИЕ'), \n",
    "                ('НАЛОЖИТЬ', 'АРЕСТ'), ('ПОДТВЕРДИТЬ', 'РЕШЕНИЕ'), ('ОТКЛОНИТЬ', 'ХОДАТАЙСТВО'), ('ОТКЛОНИТЬ', 'ИСК'), \n",
    "                ('ОБЖАЛОВАТЬ', 'ПРИГОВОР'), ('САНКЦИОНИРОВАТЬ', 'АРЕСТ')]\n"
   ]
  },
  {
   "cell_type": "code",
   "execution_count": 76,
   "metadata": {},
   "outputs": [
    {
     "name": "stdout",
     "output_type": "stream",
     "text": [
      "[('СУД', 'ПРИЗНАТЬ'), ('ВЫДАТЬ', 'САНКЦИЯ'), ('СУД', 'УДОВЛЕТВОРИТЬ'), ('УДОВЛЕТВОРИТЬ', 'ИСК'), ('УДОВЛЕТВОРИТЬ', 'ХОДАТАЙСТВО'), ('ПРИНЯТЬ', 'РЕШЕНИЕ'), ('САНКЦИЯ', 'АРЕСТ'), ('МЕРА', 'ПРЕСЕЧЕНИЕ'), ('НАЛОЖИТЬ', 'АРЕСТ'), ('СУД', 'ВЫНЕСТИ')]\n"
     ]
    }
   ],
   "source": [
    "# топ 10 биграм с фильтром встречаемости не меньше 5 раз (метрика Log-Likelihood)\n",
    "finder.apply_freq_filter(5)\n",
    "top_lr = finder.nbest(bigram_measures.likelihood_ratio, 10)\n",
    "print(top_lr)"
   ]
  },
  {
   "cell_type": "code",
   "execution_count": 77,
   "metadata": {
    "scrolled": true
   },
   "outputs": [
    {
     "name": "stdout",
     "output_type": "stream",
     "text": [
      "[('ОСВОБОДИТЬ', 'ЗАЛОГ'), ('ЛИШЕНИЕ', 'СВОБОДА'), ('ПРОЙТИ', 'ПРЕНИЕ'), ('МЕРА', 'ПРЕСЕЧЕНИЕ'), ('ИЗБРАТЬ', 'МЕРА'), ('ВЫДАТЬ', 'САНКЦИЯ'), ('ОСТАВИТЬ', 'СИЛА'), ('АРЕСТОВАТЬ', 'АКЦИЯ'), ('СОГЛАСИТЬСЯ', 'ДОВОД'), ('НАЧАТЬСЯ', 'РАССМОТРЕНИЕ')]\n"
     ]
    }
   ],
   "source": [
    "# топ 10 биграм с фильтром встречаемости не меньше 5 раз (метрика Pointwise Mutual Information)\n",
    "finder.apply_freq_filter(5)\n",
    "top_pmi = finder.nbest(bigram_measures.pmi, 10)\n",
    "print(top_pmi)"
   ]
  },
  {
   "cell_type": "code",
   "execution_count": 78,
   "metadata": {},
   "outputs": [
    {
     "name": "stdout",
     "output_type": "stream",
     "text": [
      "-0.8\n"
     ]
    }
   ],
   "source": [
    "#ранговый коэффициент корреляции Спирмена между ЗС и коллокациям по метрике Log-Likelihood\n",
    "print('%0.1f' % spearman_correlation(ranks_from_sequence(golden_stand), ranks_from_sequence(top_lr)))"
   ]
  },
  {
   "cell_type": "code",
   "execution_count": 79,
   "metadata": {},
   "outputs": [
    {
     "name": "stdout",
     "output_type": "stream",
     "text": [
      "0.0\n"
     ]
    }
   ],
   "source": [
    "#ранговый коэффициент корреляции Спирмена между ЗС и коллокациям по метрике Pointwise Mutual Information\n",
    "print('%0.1f' % spearman_correlation(ranks_from_sequence(golden_stand), ranks_from_sequence(top_pmi)))"
   ]
  },
  {
   "cell_type": "markdown",
   "metadata": {},
   "source": [
    "<b>(а)</b> какие коллокации, полученные методом i, не входят в Ваш золотой стандарт: \n",
    "в первом случае не входят коллокации: ('СУД', 'ПРИЗНАТЬ'), ('СУД', 'УДОВЛЕТВОРИТЬ'), ('УДОВЛЕТВОРИТЬ', 'ИСК'), ('САНКЦИЯ', 'АРЕСТ'), ('МЕРА', 'ПРЕСЕЧЕНИЕ'), ('СУД', 'ВЫНЕСТИ')\n",
    "во втором случае: ('ОСВОБОДИТЬ', 'ЗАЛОГ'), ('ЛИШЕНИЕ', 'СВОБОДА'), ('ПРОЙТИ', 'ПРЕНИЕ'), ('МЕРА', 'ПРЕСЕЧЕНИЕ'), ('ИЗБРАТЬ', 'МЕРА'), ('ОСТАВИТЬ', 'СИЛА'), ('АРЕСТОВАТЬ', 'АКЦИЯ'), ('СОГЛАСИТЬСЯ', 'ДОВОД'), ('НАЧАТЬСЯ', 'РАССМОТРЕНИЕ') "
   ]
  },
  {
   "cell_type": "markdown",
   "metadata": {},
   "source": [
    "<b>(б)</b>  какие попали ошибочно (предложите объяснение - откуда взялась такая ошибка, что можно сделать, чтобы ее устранить): мне кажется, что ошибочно полала эта коллокации: ('ОСТАВИТЬ', 'СИЛА'). Возможно, что это просто частотная и даже сильная коллокация, но я смутно представляю, как это может быть связано с действиями суда. "
   ]
  },
  {
   "cell_type": "markdown",
   "metadata": {},
   "source": [
    "<b>(в)</b>  какие у Вас не попоали в ЗС, но вы думаете, что это полезные коллокации: \n",
    "('СУД', 'ПРИЗНАТЬ'),  ('СУД', 'УДОВЛЕТВОРИТЬ'), ('УДОВЛЕТВОРИТЬ', 'ИСК'), ('СУД', 'ВЫНЕСТИ'), ('ОСВОБОДИТЬ', 'ЗАЛОГ'), ('ЛИШЕНИЕ', 'СВОБОДА'), ('НАЧАТЬСЯ', 'РАССМОТРЕНИЕ')"
   ]
  }
 ],
 "metadata": {
  "kernelspec": {
   "display_name": "Python 3",
   "language": "python",
   "name": "python3"
  },
  "language_info": {
   "codemirror_mode": {
    "name": "ipython",
    "version": 3
   },
   "file_extension": ".py",
   "mimetype": "text/x-python",
   "name": "python",
   "nbconvert_exporter": "python",
   "pygments_lexer": "ipython3",
   "version": "3.6.3"
  }
 },
 "nbformat": 4,
 "nbformat_minor": 1
}
