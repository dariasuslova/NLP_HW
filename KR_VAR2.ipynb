{
 "cells": [
  {
   "cell_type": "markdown",
   "metadata": {},
   "source": [
    "<b> задание 1.</b> Вар. 2. Для лексемы \"острый\" выберите 2 контекста со значением как в \"острый нож\" и 2 контекста со значением как в \"острый суп\" длиной 8-12 слов. Из каждого контекста выберите значимые леммы. Вычислите коэффициент Дайса для попарной близости контекстов. Упорядочите контексты по близости. В ответе приведите код или подсчеты, а также получившийся порядок."
   ]
  },
  {
   "cell_type": "code",
   "execution_count": 13,
   "metadata": {
    "collapsed": true
   },
   "outputs": [],
   "source": [
    "def dice_coefficient(a, b):\n",
    "    \"\"\"dice coefficient 2nt/na + nb.\"\"\"\n",
    "    if not len(a) or not len(b): return 0.0\n",
    "    if len(a) == 1:  a=a+u'.'\n",
    "    if len(b) == 1:  b=b+u'.'\n",
    "    \n",
    "    a_bigram_list=[]\n",
    "    for i in range(len(a)-1):\n",
    "      a_bigram_list.append(a[i:i+2])\n",
    "    b_bigram_list=[]\n",
    "    for i in range(len(b)-1):\n",
    "      b_bigram_list.append(b[i:i+2])\n",
    "      \n",
    "    a_bigrams = set(a_bigram_list)\n",
    "    b_bigrams = set(b_bigram_list)\n",
    "    overlap = len(a_bigrams & b_bigrams)\n",
    "    dice_coeff = overlap * 2.0/(len(a_bigrams) + len(b_bigrams))\n",
    "    return dice_coeff\n",
    "\n"
   ]
  },
  {
   "cell_type": "code",
   "execution_count": 14,
   "metadata": {
    "collapsed": true
   },
   "outputs": [],
   "source": [
    "ostr_nozh1 = \"У кривоногого были курчавые чёрные волосы, острый маленький подбородочек.\" \n",
    "ostr_nozh2 = \"На осуждённых накидывают верёвки, поднимают и усаживают верхом на острый брус.\"\n",
    "ostr_syp1 = \"Рыбины были золотистого оттенка и распространяли острый аромат.\"\n",
    "ostr_syp2 =  \"Острый, нестерпимый запах птиц, трески, гниющих зелёных морских косм.\""
   ]
  },
  {
   "cell_type": "code",
   "execution_count": 44,
   "metadata": {},
   "outputs": [
    {
     "name": "stdout",
     "output_type": "stream",
     "text": [
      "0.2926829268292683\n",
      "0.18867924528301888\n",
      "0.3684210526315789\n",
      "0.3130434782608696\n",
      "0.22033898305084745\n",
      "0.25225225225225223\n"
     ]
    }
   ],
   "source": [
    "print(dice_coefficient(ostr_nozh1, ostr_nozh2))\n",
    "print(dice_coefficient(ostr_syp1, ostr_syp2))\n",
    "print(dice_coefficient(ostr_nozh1, ostr_syp1))\n",
    "print(dice_coefficient(ostr_nozh2, ostr_syp2))\n",
    "print(dice_coefficient(ostr_nozh1, ostr_syp2))\n",
    "print(dice_coefficient(ostr_nozh2, ostr_syp1))"
   ]
  },
  {
   "cell_type": "markdown",
   "metadata": {},
   "source": [
    "<b> задание 2. </b> Вар. 2. Задание на WordNet 1) Найти все значения (синсеты) для лексемы bass"
   ]
  },
  {
   "cell_type": "code",
   "execution_count": 1,
   "metadata": {
    "collapsed": true
   },
   "outputs": [],
   "source": [
    "import nltk\n",
    "from nltk.corpus import wordnet"
   ]
  },
  {
   "cell_type": "code",
   "execution_count": 2,
   "metadata": {},
   "outputs": [
    {
     "name": "stdout",
     "output_type": "stream",
     "text": [
      "Synset('bass.n.01') the lowest part of the musical range\n",
      "Synset('bass.n.02') the lowest part in polyphonic music\n",
      "Synset('bass.n.03') an adult male singer with the lowest voice\n",
      "Synset('sea_bass.n.01') the lean flesh of a saltwater fish of the family Serranidae\n",
      "Synset('freshwater_bass.n.01') any of various North American freshwater fish with lean flesh (especially of the genus Micropterus)\n",
      "Synset('bass.n.06') the lowest adult male singing voice\n",
      "Synset('bass.n.07') the member with the lowest range of a family of musical instruments\n",
      "Synset('bass.n.08') nontechnical name for any of numerous edible marine and freshwater spiny-finned fishes\n",
      "Synset('bass.s.01') having or denoting a low vocal or instrumental range\n"
     ]
    }
   ],
   "source": [
    "bass = wordnet.synsets('bass')\n",
    "for ss in bass:\n",
    "    print(ss, ss.definition())"
   ]
  },
  {
   "cell_type": "markdown",
   "metadata": {},
   "source": [
    "2) найти гиперонимы для значения лексемы bass - fish,"
   ]
  },
  {
   "cell_type": "code",
   "execution_count": 3,
   "metadata": {},
   "outputs": [
    {
     "name": "stdout",
     "output_type": "stream",
     "text": [
      "Synset('saltwater_fish.n.01') flesh of fish from the sea used as food\n",
      "Synset('freshwater_fish.n.01') flesh of fish from fresh water used as food\n",
      "Synset('percoid_fish.n.01') any of numerous spiny-finned fishes of the order Perciformes\n"
     ]
    }
   ],
   "source": [
    "for ss in bass[3].hypernyms():\n",
    "    print(ss, ss.definition())\n",
    "for ss in bass[4].hypernyms():\n",
    "    print(ss, ss.definition())\n",
    "for ss in bass[7].hypernyms():\n",
    "    print(ss, ss.definition())"
   ]
  },
  {
   "cell_type": "markdown",
   "metadata": {},
   "source": [
    "3) вычислите одним из сопобов расстояние: (bass, fish), (fish, vertebrate (позвоночное)). Какое расстояние меньше. Соответствует ли это Вашей интуиции"
   ]
  },
  {
   "cell_type": "code",
   "execution_count": 4,
   "metadata": {},
   "outputs": [
    {
     "name": "stdout",
     "output_type": "stream",
     "text": [
      "Synset('fish.n.01') any of various mostly cold-blooded aquatic vertebrates usually having scales and breathing through gills\n",
      "Synset('fish.n.02') the flesh of fish used as food\n",
      "Synset('pisces.n.02') (astrology) a person who is born while the sun is in Pisces\n",
      "Synset('pisces.n.01') the twelfth sign of the zodiac; the sun is in this sign from about February 19 to March 20\n",
      "Synset('fish.v.01') seek indirectly\n",
      "Synset('fish.v.02') catch or try to catch fish or shellfish\n"
     ]
    }
   ],
   "source": [
    "fish = wordnet.synsets(\"fish\")\n",
    "for ss in fish:\n",
    "    print(ss, ss.definition())"
   ]
  },
  {
   "cell_type": "code",
   "execution_count": 5,
   "metadata": {},
   "outputs": [
    {
     "name": "stdout",
     "output_type": "stream",
     "text": [
      "0.16666666666666666\n"
     ]
    }
   ],
   "source": [
    "print(bass[7].path_similarity(fish[0]))"
   ]
  },
  {
   "cell_type": "code",
   "execution_count": 7,
   "metadata": {},
   "outputs": [
    {
     "name": "stdout",
     "output_type": "stream",
     "text": [
      "Synset('vertebrate.n.01') animals having a bony or cartilaginous skeleton with a segmented spinal column and a large brain enclosed in a skull or cranium\n",
      "Synset('vertebrate.a.01') having a backbone or spinal column\n"
     ]
    }
   ],
   "source": [
    "v = wordnet.synsets('vertebrate')\n",
    "for ss in v:\n",
    "    print(ss, ss.definition())"
   ]
  },
  {
   "cell_type": "code",
   "execution_count": 9,
   "metadata": {},
   "outputs": [
    {
     "name": "stdout",
     "output_type": "stream",
     "text": [
      "0.3333333333333333\n"
     ]
    }
   ],
   "source": [
    "print(fish[0].path_similarity(v[0]))"
   ]
  },
  {
   "cell_type": "markdown",
   "metadata": {},
   "source": [
    "По интуиции сибас должен быть ближе к рыбе, чем позвоночное. Однако оказалось, что рыба ближе к позвоночному. "
   ]
  },
  {
   "cell_type": "markdown",
   "metadata": {},
   "source": [
    "<b> задание 3.</b> \n",
    "вар. 2. Возьмите готовую модель word2vec (см. последнее практическое занятие). Вычислите топ 10 слов для слова \"привести\". Определите топ 5 близких к слову \"привести\" по русскому ворд-нету: http://ruwordnet.ru/en/ или по РуТез http://www.labinform.ru/pub/ruthes/ (любым способом, опишите, как Вы искали близкие слова). Каков процент пересечения? Какие, полученные в выбранной Вами модели слова, на Ваш взгляд, попали в топ 10 близких ошибочно. Попробуйте прокомментировать, почему"
   ]
  },
  {
   "cell_type": "code",
   "execution_count": 21,
   "metadata": {},
   "outputs": [],
   "source": [
    "import sys\n",
    "import gensim, logging\n",
    "\n",
    "from gensim.models import KeyedVectors \n",
    "vectors = KeyedVectors.load_word2vec_format('ruscorpora_mean_hs.model.bin', binary=True)"
   ]
  },
  {
   "cell_type": "code",
   "execution_count": 30,
   "metadata": {},
   "outputs": [
    {
     "ename": "KeyError",
     "evalue": "\"word 'привести_Verb' not in vocabulary\"",
     "output_type": "error",
     "traceback": [
      "\u001b[1;31m---------------------------------------------------------------------------\u001b[0m",
      "\u001b[1;31mKeyError\u001b[0m                                  Traceback (most recent call last)",
      "\u001b[1;32m<ipython-input-30-2716608ea847>\u001b[0m in \u001b[0;36m<module>\u001b[1;34m()\u001b[0m\n\u001b[0;32m      3\u001b[0m \u001b[1;31m#print(vectors.most_similar(positive=['привести_VERB'], topn=10))\u001b[0m\u001b[1;33m\u001b[0m\u001b[1;33m\u001b[0m\u001b[0m\n\u001b[0;32m      4\u001b[0m \u001b[1;31m#print(vectors.most_similar(positive=['привести_V'], topn=10))\u001b[0m\u001b[1;33m\u001b[0m\u001b[1;33m\u001b[0m\u001b[0m\n\u001b[1;32m----> 5\u001b[1;33m \u001b[0mprint\u001b[0m\u001b[1;33m(\u001b[0m\u001b[0mvectors\u001b[0m\u001b[1;33m.\u001b[0m\u001b[0mmost_similar\u001b[0m\u001b[1;33m(\u001b[0m\u001b[0mpositive\u001b[0m\u001b[1;33m=\u001b[0m\u001b[1;33m[\u001b[0m\u001b[1;34m'привести_Verb'\u001b[0m\u001b[1;33m]\u001b[0m\u001b[1;33m,\u001b[0m \u001b[0mtopn\u001b[0m\u001b[1;33m=\u001b[0m\u001b[1;36m10\u001b[0m\u001b[1;33m)\u001b[0m\u001b[1;33m)\u001b[0m\u001b[1;33m\u001b[0m\u001b[0m\n\u001b[0m",
      "\u001b[1;32m~\\Anaconda3\\lib\\site-packages\\gensim\\models\\keyedvectors.py\u001b[0m in \u001b[0;36mmost_similar\u001b[1;34m(self, positive, negative, topn, restrict_vocab, indexer)\u001b[0m\n\u001b[0;32m    363\u001b[0m                 \u001b[0mmean\u001b[0m\u001b[1;33m.\u001b[0m\u001b[0mappend\u001b[0m\u001b[1;33m(\u001b[0m\u001b[0mweight\u001b[0m \u001b[1;33m*\u001b[0m \u001b[0mword\u001b[0m\u001b[1;33m)\u001b[0m\u001b[1;33m\u001b[0m\u001b[0m\n\u001b[0;32m    364\u001b[0m             \u001b[1;32melse\u001b[0m\u001b[1;33m:\u001b[0m\u001b[1;33m\u001b[0m\u001b[0m\n\u001b[1;32m--> 365\u001b[1;33m                 \u001b[0mmean\u001b[0m\u001b[1;33m.\u001b[0m\u001b[0mappend\u001b[0m\u001b[1;33m(\u001b[0m\u001b[0mweight\u001b[0m \u001b[1;33m*\u001b[0m \u001b[0mself\u001b[0m\u001b[1;33m.\u001b[0m\u001b[0mword_vec\u001b[0m\u001b[1;33m(\u001b[0m\u001b[0mword\u001b[0m\u001b[1;33m,\u001b[0m \u001b[0muse_norm\u001b[0m\u001b[1;33m=\u001b[0m\u001b[1;32mTrue\u001b[0m\u001b[1;33m)\u001b[0m\u001b[1;33m)\u001b[0m\u001b[1;33m\u001b[0m\u001b[0m\n\u001b[0m\u001b[0;32m    366\u001b[0m                 \u001b[1;32mif\u001b[0m \u001b[0mword\u001b[0m \u001b[1;32min\u001b[0m \u001b[0mself\u001b[0m\u001b[1;33m.\u001b[0m\u001b[0mvocab\u001b[0m\u001b[1;33m:\u001b[0m\u001b[1;33m\u001b[0m\u001b[0m\n\u001b[0;32m    367\u001b[0m                     \u001b[0mall_words\u001b[0m\u001b[1;33m.\u001b[0m\u001b[0madd\u001b[0m\u001b[1;33m(\u001b[0m\u001b[0mself\u001b[0m\u001b[1;33m.\u001b[0m\u001b[0mvocab\u001b[0m\u001b[1;33m[\u001b[0m\u001b[0mword\u001b[0m\u001b[1;33m]\u001b[0m\u001b[1;33m.\u001b[0m\u001b[0mindex\u001b[0m\u001b[1;33m)\u001b[0m\u001b[1;33m\u001b[0m\u001b[0m\n",
      "\u001b[1;32m~\\Anaconda3\\lib\\site-packages\\gensim\\models\\keyedvectors.py\u001b[0m in \u001b[0;36mword_vec\u001b[1;34m(self, word, use_norm)\u001b[0m\n\u001b[0;32m    272\u001b[0m             \u001b[1;32mreturn\u001b[0m \u001b[0mresult\u001b[0m\u001b[1;33m\u001b[0m\u001b[0m\n\u001b[0;32m    273\u001b[0m         \u001b[1;32melse\u001b[0m\u001b[1;33m:\u001b[0m\u001b[1;33m\u001b[0m\u001b[0m\n\u001b[1;32m--> 274\u001b[1;33m             \u001b[1;32mraise\u001b[0m \u001b[0mKeyError\u001b[0m\u001b[1;33m(\u001b[0m\u001b[1;34m\"word '%s' not in vocabulary\"\u001b[0m \u001b[1;33m%\u001b[0m \u001b[0mword\u001b[0m\u001b[1;33m)\u001b[0m\u001b[1;33m\u001b[0m\u001b[0m\n\u001b[0m\u001b[0;32m    275\u001b[0m \u001b[1;33m\u001b[0m\u001b[0m\n\u001b[0;32m    276\u001b[0m     \u001b[1;32mdef\u001b[0m \u001b[0mget_vector\u001b[0m\u001b[1;33m(\u001b[0m\u001b[0mself\u001b[0m\u001b[1;33m,\u001b[0m \u001b[0mword\u001b[0m\u001b[1;33m)\u001b[0m\u001b[1;33m:\u001b[0m\u001b[1;33m\u001b[0m\u001b[0m\n",
      "\u001b[1;31mKeyError\u001b[0m: \"word 'привести_Verb' not in vocabulary\""
     ]
    }
   ],
   "source": [
    "#print(vectors.most_similar(positive=['привести'], topn=10))\n",
    "\n",
    "#print(vectors.most_similar(positive=['привести_VERB'], topn=10))\n",
    "#print(vectors.most_similar(positive=['привести_V'], topn=10))\n",
    "print(vectors.most_similar(positive=['привести_Verb'], topn=10))\n"
   ]
  },
  {
   "cell_type": "markdown",
   "metadata": {},
   "source": [
    "Слова \"привести\" нет в модели."
   ]
  },
  {
   "cell_type": "markdown",
   "metadata": {},
   "source": [
    "Топ 5 близких слов: ВЫСКАЗАТЬ,  ДОСТАВИТЬ К МЕСТУ НАЗНАЧЕНИЯ, ВЫЗВАТЬ ПОЯВЛЕНИЕ,  СПОСОБСТВОВАТЬ, СЛУЖИТЬ В КАЧЕСТВЕ\n",
    "на сайте : http://ruwordnet.ru/en/ у глагола \"привести\" есть 5 значений и из каждого значения, я выбрала те, которые показаись мне наболее близкими."
   ]
  },
  {
   "cell_type": "markdown",
   "metadata": {},
   "source": [
    "<b> Задание 4.</b> Вар. 2. Найдите лишнее слово \"слово, рассказ, мнение, крик\""
   ]
  },
  {
   "cell_type": "code",
   "execution_count": 42,
   "metadata": {},
   "outputs": [
    {
     "name": "stdout",
     "output_type": "stream",
     "text": [
      "крик_S\n"
     ]
    }
   ],
   "source": [
    "print(vectors.doesnt_match('слово_S рассказ_S мнение_S крик_S'.split()))"
   ]
  },
  {
   "cell_type": "code",
   "execution_count": null,
   "metadata": {
    "collapsed": true
   },
   "outputs": [],
   "source": []
  }
 ],
 "metadata": {
  "kernelspec": {
   "display_name": "Python 3",
   "language": "python",
   "name": "python3"
  },
  "language_info": {
   "codemirror_mode": {
    "name": "ipython",
    "version": 3
   },
   "file_extension": ".py",
   "mimetype": "text/x-python",
   "name": "python",
   "nbconvert_exporter": "python",
   "pygments_lexer": "ipython3",
   "version": "3.6.3"
  }
 },
 "nbformat": 4,
 "nbformat_minor": 2
}
