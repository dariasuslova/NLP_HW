{
 "cells": [
  {
   "cell_type": "code",
   "execution_count": 3,
   "metadata": {},
   "outputs": [],
   "source": [
    "import nltk\n",
    "from nltk.corpus import wordnet"
   ]
  },
  {
   "cell_type": "markdown",
   "metadata": {},
   "source": [
    "<b>1) Найти все значения (синсеты) для лексемы plant<b>"
   ]
  },
  {
   "cell_type": "code",
   "execution_count": 4,
   "metadata": {},
   "outputs": [
    {
     "name": "stdout",
     "output_type": "stream",
     "text": [
      "Synset('play.n.01') a dramatic work intended for performance by actors on a stage\n",
      "Synset('play.n.02') a theatrical performance of a drama\n",
      "Synset('play.n.03') a preset plan of action in team sports\n",
      "Synset('maneuver.n.03') a deliberate coordinated movement requiring dexterity and skill\n",
      "Synset('play.n.05') a state in which action is feasible\n",
      "Synset('play.n.06') utilization or exercise\n",
      "Synset('bid.n.02') an attempt to get something\n",
      "Synset('play.n.08') activity by children that is guided more by imagination than by fixed rules\n",
      "Synset('playing_period.n.01') (in games or plays or other performances) the time during which play proceeds\n",
      "Synset('free_rein.n.01') the removal of constraints\n",
      "Synset('shimmer.n.01') a weak and tremulous light\n",
      "Synset('fun.n.02') verbal wit or mockery (often at another's expense but not to be taken seriously)\n",
      "Synset('looseness.n.05') movement or space for movement\n",
      "Synset('play.n.14') gay or light-hearted recreational activity for diversion or amusement\n",
      "Synset('turn.n.03') (game) the activity of doing something in an agreed succession\n",
      "Synset('gambling.n.01') the act of playing for stakes in the hope of winning (including the payment of a price for a chance to win a prize)\n",
      "Synset('play.n.17') the act using a sword (or other weapon) vigorously and skillfully\n",
      "Synset('play.v.01') participate in games or sport\n",
      "Synset('play.v.02') act or have an effect in a specified way or with a specific effect or outcome\n",
      "Synset('play.v.03') play on an instrument\n",
      "Synset('act.v.03') play a role or part\n",
      "Synset('play.v.05') be at play; be engaged in playful activity; amuse oneself in a way characteristic of children\n",
      "Synset('play.v.06') replay (as a melody)\n",
      "Synset('play.v.07') perform music on (a musical instrument)\n",
      "Synset('act.v.05') pretend to have certain qualities or state of mind\n",
      "Synset('play.v.09') move or seem to move quickly, lightly, or irregularly\n",
      "Synset('play.v.10') bet or wager (money)\n",
      "Synset('play.v.11') engage in recreational activities rather than work; occupy oneself in a diversion\n",
      "Synset('play.v.12') pretend to be somebody in the framework of a game or playful activity\n",
      "Synset('play.v.13') emit recorded sound\n",
      "Synset('play.v.14') perform on a certain location\n",
      "Synset('play.v.15') put (a card or piece) into play during a game, or act strategically as if in a card game\n",
      "Synset('play.v.16') engage in an activity as if it were a game rather than take it seriously\n",
      "Synset('play.v.17') behave in a certain way\n",
      "Synset('play.v.18') cause to emit recorded audio or video\n",
      "Synset('toy.v.02') manipulate manually or in one's mind or imagination\n",
      "Synset('play.v.20') use to one's advantage\n",
      "Synset('dally.v.04') consider not very seriously\n",
      "Synset('play.v.22') be received or accepted or interpreted in a specific way\n",
      "Synset('dally.v.01') behave carelessly or indifferently\n",
      "Synset('play.v.24') cause to move or operate freely within a bounded space\n",
      "Synset('act.v.10') perform on a stage or theater\n",
      "Synset('play.v.26') be performed or presented for public viewing\n",
      "Synset('bring.v.03') cause to happen or to occur as a consequence\n",
      "Synset('play.v.28') discharge or direct or be discharged or directed as if in a continuous stream\n",
      "Synset('play.v.29') make bets\n",
      "Synset('bet.v.02') stake on the outcome of an issue\n",
      "Synset('play.v.31') shoot or hit in a particular manner\n",
      "Synset('play.v.32') use or move\n",
      "Synset('play.v.33') employ in a game or in a specific position\n",
      "Synset('meet.v.10') contend against an opponent in a sport, game, or battle\n",
      "Synset('play.v.35') exhaust by allowing to pull on the line\n"
     ]
    }
   ],
   "source": [
    "play = wordnet.synsets('play')\n",
    "for ss in play:\n",
    "    print(ss, ss.definition())"
   ]
  },
  {
   "cell_type": "markdown",
   "metadata": {},
   "source": [
    "<b>2) Найти определение для лексемы play в значении (а) \"спектакль\" и в значении (b) \"играть в игры\"</b>"
   ]
  },
  {
   "cell_type": "code",
   "execution_count": 18,
   "metadata": {},
   "outputs": [
    {
     "name": "stdout",
     "output_type": "stream",
     "text": [
      "Synset('play.n.01') a dramatic work intended for performance by actors on a stage\n",
      "Synset('play.v.01') participate in games or sport\n"
     ]
    }
   ],
   "source": [
    "print(play[0], play[0].definition())\n",
    "print(play[17], play[17].definition())"
   ]
  },
  {
   "cell_type": "markdown",
   "metadata": {},
   "source": [
    "<b>3) Найдите два произвольных контекста для слова plant в значениях (a) \"спектакль\" и (b) \"играть в игры\"; продемонстрируйте на них действие алгоритма Леска для разрешения неоднозначности</b>"
   ]
  },
  {
   "cell_type": "code",
   "execution_count": 19,
   "metadata": {},
   "outputs": [
    {
     "name": "stdout",
     "output_type": "stream",
     "text": [
      "['Let’s', 'play', 'a', 'game', 'that', 'called', 'Alias']\n",
      "['The', 'play', 'was', 'written', 'by', 'Jeroen', 'Olyslaegers', 'and', 'is', 'directed', 'by', 'Floor', 'Huygen']\n"
     ]
    }
   ],
   "source": [
    "sent1 = 'Let’s play a game that called Alias.'\n",
    "sent2 = 'The play was written by Jeroen Olyslaegers and is directed by Floor Huygen.'\n",
    "sent1_tokens = [word.strip('.,') for word in sent1.split(' ')]\n",
    "sent2_tokens = [word.strip('.,') for word in sent2.split(' ')]\n",
    "print(sent1_tokens)\n",
    "print(sent2_tokens)"
   ]
  },
  {
   "cell_type": "code",
   "execution_count": 20,
   "metadata": {},
   "outputs": [
    {
     "name": "stdout",
     "output_type": "stream",
     "text": [
      "put (a card or piece) into play during a game, or act strategically as if in a card game\n",
      "activity by children that is guided more by imagination than by fixed rules\n"
     ]
    }
   ],
   "source": [
    "from nltk.wsd import lesk\n",
    "print(lesk(sent1_tokens, 'play').definition())\n",
    "print(lesk(sent2_tokens, 'play').definition())"
   ]
  },
  {
   "cell_type": "markdown",
   "metadata": {},
   "source": [
    "Алгоритм Леска ошибся как в первом, так и во втором случае, хотя часть речи везде была определена правильно."
   ]
  },
  {
   "cell_type": "markdown",
   "metadata": {},
   "source": [
    "<b>4) Найдите гиперонимы для значения (a) и гиперонимы для значения (b)</b>"
   ]
  },
  {
   "cell_type": "code",
   "execution_count": 21,
   "metadata": {},
   "outputs": [
    {
     "name": "stdout",
     "output_type": "stream",
     "text": [
      "Synset('dramatic_composition.n.01') a play for performance on the stage or television or in a movie etc.\n",
      "Synset('compete.v.01') compete for something; engage in a contest; measure oneself against others\n"
     ]
    }
   ],
   "source": [
    "for ss in play[0].hypernyms():\n",
    "    print(ss, ss.definition())\n",
    "for ss in play[17].hypernyms():\n",
    "    print(ss, ss.definition())"
   ]
  },
  {
   "cell_type": "markdown",
   "metadata": {},
   "source": [
    "<b>5) Вычислите наименьшее расстояние между значением play \"спектакль\" и значениями лексемы theatre, а также play \"играть в игры\" и значениями лексемы game.\n",
    "Найти min (d(plant: \"спектакль\", call), d(plant: \"спектакль\", game)), а также min (d(plant: \"играть в игры\", call), d(plant: \"играть в игры\", game))</b>"
   ]
  },
  {
   "cell_type": "code",
   "execution_count": 35,
   "metadata": {},
   "outputs": [
    {
     "name": "stdout",
     "output_type": "stream",
     "text": [
      "min d(play: \"cпектакль\", call): 7\n",
      "closest lemma definition: a loud utterance; often in protest or opposition\n",
      "\n",
      "min d(play: \"спектакль\", game): 10\n",
      "closest lemma definition: a contest with rules to determine a winner\n",
      "\n",
      "min d(play: \"играть в игры\", call): 1\n",
      "closest lemma definition: a telephone connection\n",
      "\n",
      "min d(play: \"играть в игры\", game): 3\n",
      "closest lemma definition: a contest with rules to determine a winner\n",
      "\n",
      "min (d(play: \"спектакль\", call), d(play: \"спектакль\", game)): 7\n",
      "min (d(play: \"играть в игры\", call), d(play: \"играть в игры\", game)): 1\n"
     ]
    }
   ],
   "source": [
    "call = wordnet.synsets('call')\n",
    "game = wordnet.synsets('game')\n",
    "\n",
    "def get_dist_sim(ss1, lexeme):\n",
    "    distances = []\n",
    "    similarities = []\n",
    "    for ss2 in lexeme:\n",
    "        dist = ss1.shortest_path_distance(ss2)\n",
    "        if dist is not None:\n",
    "            distances.append(dist)\n",
    "            sim = ss1.path_similarity(ss2)\n",
    "            similarities.append(sim)\n",
    "    return distances, similarities\n",
    "\n",
    "# min d(play: \"спектакль\", call)\n",
    "dist1 = get_dist_sim(play[0], call)[0]\n",
    "print('min d(play: \"cпектакль\", call): {}'.format(min(dist1)))\n",
    "print('closest lemma definition: {}\\n'.format(call[dist1.index(min(dist1))].definition()))\n",
    "\n",
    "# min d(play: \"спектакль\", game)\n",
    "dist2 = get_dist_sim(play[0], game)[0]\n",
    "print('min d(play: \"спектакль\", game): {}'.format(min(dist2)))\n",
    "print('closest lemma definition: {}\\n'.format(game[dist2.index(min(dist2))].definition()))\n",
    "\n",
    "# min d(play: \"играть в игры\", call)\n",
    "dist3 = get_dist_sim(play[17], call)[0]\n",
    "print('min d(play: \"играть в игры\", call): {}'.format(min(dist3)))\n",
    "print('closest lemma definition: {}\\n'.format(call[dist3.index(min(dist3))].definition()))\n",
    "\n",
    "# min d(play: \"играть в игры\", game)\n",
    "dist4 = get_dist_sim(play[17], game)[0]\n",
    "print('min d(play: \"играть в игры\", game): {}'.format(min(dist4)))\n",
    "print('closest lemma definition: {}\\n'.format(game[dist4.index(min(dist4))].definition()))\n",
    "\n",
    "print('min (d(play: \"спектакль\", call), d(play: \"спектакль\", game)): {}'.format(min(min(dist1), min(dist2))))\n",
    "print('min (d(play: \"играть в игры\", call), d(play: \"играть в игры\", game)): {}'.format(min(min(dist3), min(dist4))))"
   ]
  },
  {
   "cell_type": "markdown",
   "metadata": {},
   "source": [
    "Кратчайшее расстояние от спектакля до call - 7 (у ближайшей леммы call не совсем ожидаемое для данного задания значение), до game - 10. \n",
    "Кратчайшее расстояние от растения до call - 1, до game - 3. До game расстояние оказалось длиннее, что было не совсем ожидаемо. Казалось, что game ближе к play в значении \"играть в игры\".\n"
   ]
  },
  {
   "cell_type": "markdown",
   "metadata": {},
   "source": [
    "\n",
    "<b>6) Вычислить двумя разными способами расстояние:\n",
    "d(play: \"спектакль\", comedy) и d(organism, whole)\n",
    "Есть ли разница в расстояниях? Какое из расстояний, по Вашему мнению, в лучшей степени отражает интуитивное представление о семантчиеской близости слов?</b>\n"
   ]
  },
  {
   "cell_type": "code",
   "execution_count": 39,
   "metadata": {},
   "outputs": [
    {
     "name": "stdout",
     "output_type": "stream",
     "text": [
      "Synset('comedy.n.01') light and humorous drama with a happy ending\n",
      "Synset('drollery.n.01') a comic incident or series of incidents\n"
     ]
    }
   ],
   "source": [
    "com = wordnet.synsets(\"comedy\")\n",
    "for ss in com:\n",
    "    print(ss, ss.definition())"
   ]
  },
  {
   "cell_type": "markdown",
   "metadata": {},
   "source": [
    "Посчитаем близость с помощью критериев Path Similarity, Leacock-Chodorow Similarity, Wu-Palmer Similarity, Resnik Similarity, Jiang-Conrath Similarity и Lin Similarity. Для последних трех будем использовать Information Content корпуса Brown."
   ]
  },
  {
   "cell_type": "code",
   "execution_count": 42,
   "metadata": {},
   "outputs": [
    {
     "name": "stdout",
     "output_type": "stream",
     "text": [
      "0.1111111111111111\n",
      "1.4403615823901665\n",
      "0.42857142857142855\n",
      "2.61964384137646\n",
      "0.07125094921216772\n",
      "0.2718292239944514\n"
     ]
    }
   ],
   "source": [
    "from nltk.corpus import wordnet_ic\n",
    "ic = wordnet_ic.ic('ic-brown.dat')\n",
    "\n",
    "print(play[0].path_similarity(com[0]))\n",
    "\n",
    "#Leacock-Chodorow Similarity\n",
    "print(play[0].lch_similarity(com[0]))\n",
    "\n",
    "#Wu-Palmer Similarity\n",
    "print(play[0].wup_similarity(com[0]))\n",
    "    \n",
    "#Resnik Similarity\n",
    "print(play[0].res_similarity(com[0], ic))\n",
    "    \n",
    "#Jiang-Conrath Similarity\n",
    "print(play[0].jcn_similarity(com[0], ic))\n",
    "    \n",
    "#Lin Similarity\n",
    "print(play[0].lin_similarity(com[0], ic))\n"
   ]
  },
  {
   "cell_type": "code",
   "execution_count": 43,
   "metadata": {},
   "outputs": [
    {
     "name": "stdout",
     "output_type": "stream",
     "text": [
      "Synset('organism.n.01') a living thing that has (or can develop) the ability to act or function independently\n",
      "Synset('organism.n.01') []\n",
      "Synset('organism.n.02') a system considered analogous in structure or function to a living body\n",
      "Synset('organism.n.02') ['the social organism']\n"
     ]
    }
   ],
   "source": [
    "organism = wordnet.synsets('organism')\n",
    "for ss in organism:\n",
    "    print(ss, ss.definition())\n",
    "    print(ss, ss.examples())"
   ]
  },
  {
   "cell_type": "code",
   "execution_count": 44,
   "metadata": {},
   "outputs": [
    {
     "name": "stdout",
     "output_type": "stream",
     "text": [
      "Synset('whole.n.01') all of something including all its component elements or parts\n",
      "Synset('whole.n.01') ['Europe considered as a whole', 'the whole of American literature']\n",
      "Synset('whole.n.02') an assemblage of parts that is regarded as a single entity\n",
      "Synset('whole.n.02') ['how big is that part compared to the whole?', 'the team is a unit']\n"
     ]
    }
   ],
   "source": [
    "whole = wordnet.synsets('whole', 'n')\n",
    "for ss in whole:\n",
    "    print(ss, ss.definition())\n",
    "    print(ss, ss.examples())"
   ]
  },
  {
   "cell_type": "code",
   "execution_count": 45,
   "metadata": {},
   "outputs": [
    {
     "name": "stdout",
     "output_type": "stream",
     "text": [
      "a living thing that has (or can develop) the ability to act or function independently\n",
      "all of something including all its component elements or parts\n",
      "0.07692307692307693\n",
      "1.072636802264849\n",
      "0.14285714285714285\n",
      "-0.0\n",
      "0.11927453545173074\n",
      "-0.0\n",
      "an assemblage of parts that is regarded as a single entity\n",
      "0.3333333333333333\n",
      "2.538973871058276\n",
      "0.8\n",
      "1.5318337432196856\n",
      "1.4444255924181877\n",
      "0.8156763478002892\n",
      "a system considered analogous in structure or function to a living body\n",
      "all of something including all its component elements or parts\n",
      "0.1\n",
      "1.3350010667323402\n",
      "0.3076923076923077\n",
      "0.5962292078977726\n",
      "0.05928363701403374\n",
      "0.0660256991738309\n",
      "an assemblage of parts that is regarded as a single entity\n",
      "0.125\n",
      "1.55814461804655\n",
      "0.2222222222222222\n",
      "-0.0\n",
      "0.07444639262208605\n",
      "-0.0\n"
     ]
    }
   ],
   "source": [
    "for ss1 in organism:\n",
    "    print(ss1.definition())\n",
    "    for ss2 in whole:\n",
    "        print(ss2.definition())\n",
    "        print(ss1.path_similarity(ss2))\n",
    "\n",
    "        #Leacock-Chodorow Similarity\n",
    "        print(ss1.lch_similarity(ss2))\n",
    "\n",
    "        #Wu-Palmer Similarity\n",
    "        print(ss1.wup_similarity(ss2))\n",
    "\n",
    "        #Resnik Similarity\n",
    "        print(ss1.res_similarity(ss2, ic))\n",
    "\n",
    "        #Jiang-Conrath Similarity\n",
    "        print(ss1.jcn_similarity(ss2, ic))\n",
    "\n",
    "        #Lin Similarity\n",
    "        print(ss1.lin_similarity(ss2, ic))"
   ]
  },
  {
   "cell_type": "markdown",
   "metadata": {},
   "source": [
    "<style type=\"text/css\">\n",
    "\ttable.tableizer-table {\n",
    "\t\tfont-size: 12px;\n",
    "\t\tborder: 1px solid #CCC; \n",
    "\t\tfont-family: Arial, Helvetica, sans-serif;\n",
    "\t} \n",
    "\t.tableizer-table td {\n",
    "\t\tpadding: 4px;\n",
    "\t\tmargin: 3px;\n",
    "\t\tborder: 1px solid #CCC;\n",
    "\t}\n",
    "\t.tableizer-table th {\n",
    "\t\tbackground-color: #104E8B; \n",
    "\t\tcolor: #FFF;\n",
    "\t\tfont-weight: bold;\n",
    "\t}\n",
    "</style>\n",
    "<table class=\"tableizer-table\">\n",
    "<thead><tr class=\"tableizer-firstrow\"><th>Similarity Index</th><th>спектакль/comedy</th><th>a living thing / all of something</th><th>a living thing / an assemblage</th><th>a system / all of something</th><th>a system / an assemblage</th></tr></thead><tbody>\n",
    " <tr><td>Path Similarity</td><td>0.1111111111</td><td>0.07692307692</td><td>0.3333333333</td><td>0.1</td><td>0.125</td></tr>\n",
    " <tr><td>Leacock-Chodorow Similarity</td><td>1.440361582</td><td>1.072636802</td><td>2.538973871</td><td>1.335001067</td><td>1.558144618</td></tr>\n",
    " <tr><td>Wu-Palmer Similarity</td><td>0.428571428</td><td>0.1428571429</td><td>0.8</td><td>0.3076923077</td><td>0.2222222222</td></tr>\n",
    " <tr><td>Resnik Similarity</td><td>2.619643841</td><td>0</td><td>1.531833743</td><td>0.5962292079</td><td>0</td></tr>\n",
    " <tr><td>Jiang-Conrath Similarity</td><td>0.071250949</td><td>0.1192745355</td><td>1.444425592</td><td>0.05928363701</td><td>0.07444639262</td></tr>\n",
    " <tr><td>Lin Similarity</td><td>0.271829224</td><td>0</td><td>0.8156763478</td><td>0.06602569917</td><td>0</td></tr>\n",
    "</tbody></table>\n"
   ]
  },
  {
   "cell_type": "markdown",
   "metadata": {},
   "source": [
    "Как можно заметить, по всем индексам наиболее похожими получились значения организма (a living thing that has (or can develop) the ability to act or function independently) и целого (an assemblage of parts that is regarded as a single entity). \n",
    "\n",
    "Как мне кажется, они и правда являются довольно близкими, даже ближе, чем синонимы спектакль и комедия так как в этом случае, комедия всё же имеет более узкое значение. \n",
    "\n",
    "Смущает предпоследний индекс Jiang-Conrath Similarity, потому что в нем у пары спектакля и комедии значение близкое к нулю, что противоречит интуиции.\n"
   ]
  }
 ],
 "metadata": {
  "kernelspec": {
   "display_name": "Python 3",
   "language": "python",
   "name": "python3"
  },
  "language_info": {
   "codemirror_mode": {
    "name": "ipython",
    "version": 3
   },
   "file_extension": ".py",
   "mimetype": "text/x-python",
   "name": "python",
   "nbconvert_exporter": "python",
   "pygments_lexer": "ipython3",
   "version": "3.6.3"
  }
 },
 "nbformat": 4,
 "nbformat_minor": 1
}
