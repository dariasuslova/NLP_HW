{
 "cells": [
  {
   "cell_type": "markdown",
   "metadata": {},
   "source": [
    "Для задания были взяты 2 слова: собака и платье. Для каждого слова было взято 750 контекстов из НКРЯ, которые я заранее очистила от ссылок на авторов, и заменила эти слова на ХХХ."
   ]
  },
  {
   "cell_type": "code",
   "execution_count": 170,
   "metadata": {},
   "outputs": [],
   "source": [
    "import numpy as np\n",
    "import pandas as pd\n",
    "import gensim\n",
    "from nltk.tokenize import word_tokenize\n",
    "from sklearn.model_selection import train_test_split\n",
    "from sklearn import svm\n",
    "from sklearn.metrics import classification_report, f1_score\n",
    "from sklearn.ensemble import RandomForestClassifier\n",
    "from sklearn.ensemble import GradientBoostingClassifier\n",
    "from sklearn import tree\n",
    "from sklearn.svm import LinearSVC\n",
    "\n",
    "\n",
    "from stop_words import get_stop_words\n",
    "stop_words_421 = get_stop_words('russian')\n",
    "\n",
    "from sklearn.feature_extraction.text import TfidfVectorizer\n",
    "from sklearn.decomposition import TruncatedSVD\n",
    "\n",
    "from sklearn.feature_extraction.text import CountVectorizer, TfidfVectorizer\n",
    "\n"
   ]
  },
  {
   "cell_type": "code",
   "execution_count": 171,
   "metadata": {},
   "outputs": [],
   "source": [
    "import pymorphy2\n",
    "morph = pymorphy2.MorphAnalyzer()"
   ]
  },
  {
   "cell_type": "markdown",
   "metadata": {},
   "source": [
    "#### кодирование текстов: для собаки 1, для платья 0"
   ]
  },
  {
   "cell_type": "code",
   "execution_count": 172,
   "metadata": {},
   "outputs": [],
   "source": [
    "dog = open('dog закодировано.txt', encoding='UTF-8').read().split('\\n')\n",
    "dress = open('dress закодировано.txt', encoding='UTF-8').read().split('\\n')"
   ]
  },
  {
   "cell_type": "code",
   "execution_count": 173,
   "metadata": {},
   "outputs": [],
   "source": [
    "doggy = [text for text in dog]\n",
    "dresss = [text for text in dress]"
   ]
  },
  {
   "cell_type": "code",
   "execution_count": 174,
   "metadata": {},
   "outputs": [],
   "source": [
    "df = pd.DataFrame(doggy[1:], columns=['text'])"
   ]
  },
  {
   "cell_type": "code",
   "execution_count": 175,
   "metadata": {},
   "outputs": [],
   "source": [
    "df['class'] = 1"
   ]
  },
  {
   "cell_type": "code",
   "execution_count": 176,
   "metadata": {},
   "outputs": [],
   "source": [
    "df_2 = pd.DataFrame(dress[1:], columns=['text'])"
   ]
  },
  {
   "cell_type": "code",
   "execution_count": 177,
   "metadata": {},
   "outputs": [],
   "source": [
    "df_2['class'] = 0"
   ]
  },
  {
   "cell_type": "code",
   "execution_count": 178,
   "metadata": {},
   "outputs": [],
   "source": [
    "df = df.append(df_2, ignore_index=True)"
   ]
  },
  {
   "cell_type": "code",
   "execution_count": 179,
   "metadata": {},
   "outputs": [
    {
     "data": {
      "text/html": [
       "<div>\n",
       "<style scoped>\n",
       "    .dataframe tbody tr th:only-of-type {\n",
       "        vertical-align: middle;\n",
       "    }\n",
       "\n",
       "    .dataframe tbody tr th {\n",
       "        vertical-align: top;\n",
       "    }\n",
       "\n",
       "    .dataframe thead th {\n",
       "        text-align: right;\n",
       "    }\n",
       "</style>\n",
       "<table border=\"1\" class=\"dataframe\">\n",
       "  <thead>\n",
       "    <tr style=\"text-align: right;\">\n",
       "      <th></th>\n",
       "      <th>text</th>\n",
       "      <th>class</th>\n",
       "    </tr>\n",
       "  </thead>\n",
       "  <tbody>\n",
       "    <tr>\n",
       "      <th>0</th>\n",
       "      <td>Там жить невозможно.  Даже XXX живут лучше.  ...</td>\n",
       "      <td>1</td>\n",
       "    </tr>\n",
       "    <tr>\n",
       "      <th>1</th>\n",
       "      <td>И обиженные, точнее, несправедливо обиженные ...</td>\n",
       "      <td>1</td>\n",
       "    </tr>\n",
       "    <tr>\n",
       "      <th>2</th>\n",
       "      <td>И они― люди, а не стая бездомных XXX.</td>\n",
       "      <td>1</td>\n",
       "    </tr>\n",
       "    <tr>\n",
       "      <th>3</th>\n",
       "      <td>XXX сеттер подбежала и тут же съела то, что е...</td>\n",
       "      <td>1</td>\n",
       "    </tr>\n",
       "    <tr>\n",
       "      <th>4</th>\n",
       "      <td>XXX Найда любит до самоотречения, смотрит с к...</td>\n",
       "      <td>1</td>\n",
       "    </tr>\n",
       "  </tbody>\n",
       "</table>\n",
       "</div>"
      ],
      "text/plain": [
       "                                                text  class\n",
       "0   Там жить невозможно.  Даже XXX живут лучше.  ...      1\n",
       "1   И обиженные, точнее, несправедливо обиженные ...      1\n",
       "2            И они― люди, а не стая бездомных XXX.        1\n",
       "3   XXX сеттер подбежала и тут же съела то, что е...      1\n",
       "4   XXX Найда любит до самоотречения, смотрит с к...      1"
      ]
     },
     "execution_count": 179,
     "metadata": {},
     "output_type": "execute_result"
    }
   ],
   "source": [
    "df.head()"
   ]
  },
  {
   "cell_type": "markdown",
   "metadata": {},
   "source": [
    "### Токенизация и лемматизация и удаление пустых строк"
   ]
  },
  {
   "cell_type": "code",
   "execution_count": 180,
   "metadata": {},
   "outputs": [],
   "source": [
    "df['text'].replace('', np.nan, inplace=True)\n",
    "df.dropna(subset=['text'], inplace=True)"
   ]
  },
  {
   "cell_type": "code",
   "execution_count": 181,
   "metadata": {},
   "outputs": [],
   "source": [
    "sents = []\n",
    "for sent in df.text:\n",
    "    arr = []\n",
    "    words = word_tokenize(sent)\n",
    "    for word in words:\n",
    "        lemma = morph.parse(word)[0].normal_form\n",
    "        if not '\\n' in lemma and lemma not in stop_words_421:\n",
    "            if any([x.isalpha() for x in lemma]):\n",
    "                arr.append(lemma)\n",
    "    if arr:\n",
    "        sents.append(arr)\n",
    "    else:\n",
    "        print(\":{}:\".format(sent))"
   ]
  },
  {
   "cell_type": "markdown",
   "metadata": {},
   "source": [
    "### TF IDF Vectorizing"
   ]
  },
  {
   "cell_type": "code",
   "execution_count": 182,
   "metadata": {},
   "outputs": [
    {
     "name": "stdout",
     "output_type": "stream",
     "text": [
      "они― стая бездомный xxx\n"
     ]
    }
   ],
   "source": [
    "vectorizer = TfidfVectorizer()\n",
    "\n",
    "sents_tfidf = [' '.join([x for x in sent if x != 'XXX' and x not in stop_words_421]) for sent in sents]\n",
    "print(sents_tfidf[2])"
   ]
  },
  {
   "cell_type": "code",
   "execution_count": 183,
   "metadata": {},
   "outputs": [],
   "source": [
    "X_train, X_test_raw, y_train, y_test = train_test_split(sents_tfidf, df['class'], test_size=0.25, random_state=1337)"
   ]
  },
  {
   "cell_type": "code",
   "execution_count": 184,
   "metadata": {},
   "outputs": [],
   "source": [
    "tfidf_svc = LinearSVC(random_state=1337)\n",
    "tfidf_rf = RandomForestClassifier(random_state=1337)\n",
    "tfidf_gbc = GradientBoostingClassifier(n_estimators=250, random_state=1337)"
   ]
  },
  {
   "cell_type": "code",
   "execution_count": 185,
   "metadata": {},
   "outputs": [],
   "source": [
    "X_train = vectorizer.fit_transform(X_train)\n",
    "X_test = vectorizer.transform(X_test_raw)"
   ]
  },
  {
   "cell_type": "code",
   "execution_count": 186,
   "metadata": {},
   "outputs": [
    {
     "name": "stdout",
     "output_type": "stream",
     "text": [
      "0.8163265306122449\n",
      "0.7612293144208039\n",
      "0.7718446601941747\n"
     ]
    }
   ],
   "source": [
    "for classif in [tfidf_svc, tfidf_rf, tfidf_gbc]:\n",
    "    classif.fit(X_train, y_train)\n",
    "    y_pred = classif.predict(X_test)\n",
    "    score = f1_score(y_test, y_pred)\n",
    "    print(score)"
   ]
  },
  {
   "cell_type": "markdown",
   "metadata": {},
   "source": [
    "### Word 2 Vec"
   ]
  },
  {
   "cell_type": "code",
   "execution_count": 187,
   "metadata": {},
   "outputs": [
    {
     "name": "stderr",
     "output_type": "stream",
     "text": [
      "C:\\Anaconda3\\lib\\site-packages\\ipykernel_launcher.py:9: DeprecationWarning: Call to deprecated `__getitem__` (Method will be removed in 4.0.0, use self.wv.__getitem__() instead).\n",
      "  if __name__ == '__main__':\n"
     ]
    }
   ],
   "source": [
    "df_vectors = []\n",
    "\n",
    "model = gensim.models.Word2Vec(sents, size=700, window=3, min_count=5, workers=4)\n",
    "\n",
    "for sent in sents:\n",
    "    vec = []\n",
    "    for word in sent:\n",
    "        try:\n",
    "            vec.append(model[word])\n",
    "        except:\n",
    "            pass\n",
    "    \n",
    "    try:\n",
    "        df_vectors.append(sum(vec)/len(vec))\n",
    "    except:\n",
    "        print(sent)"
   ]
  },
  {
   "cell_type": "code",
   "execution_count": 188,
   "metadata": {},
   "outputs": [
    {
     "data": {
      "text/plain": [
       "(1496, 2)"
      ]
     },
     "execution_count": 188,
     "metadata": {},
     "output_type": "execute_result"
    }
   ],
   "source": [
    "df.shape "
   ]
  },
  {
   "cell_type": "code",
   "execution_count": 189,
   "metadata": {},
   "outputs": [
    {
     "name": "stdout",
     "output_type": "stream",
     "text": [
      "1496\n"
     ]
    }
   ],
   "source": [
    "print(len(df_vecs))"
   ]
  },
  {
   "cell_type": "code",
   "execution_count": 190,
   "metadata": {},
   "outputs": [],
   "source": [
    "X_train, X_test, y_train, y_test = train_test_split(df_vectors, df['class'], test_size=0.25, random_state=1337)"
   ]
  },
  {
   "cell_type": "code",
   "execution_count": 191,
   "metadata": {},
   "outputs": [],
   "source": [
    "w2v_svc = LinearSVC(random_state=1337)\n",
    "w2v_rf = RandomForestClassifier(random_state=1337)\n",
    "w2v_gbc = GradientBoostingClassifier(n_estimators=250, random_state=1337)"
   ]
  },
  {
   "cell_type": "code",
   "execution_count": 192,
   "metadata": {},
   "outputs": [
    {
     "name": "stdout",
     "output_type": "stream",
     "text": [
      "0.5225225225225225\n",
      "0.4628571428571428\n",
      "0.6170212765957447\n"
     ]
    }
   ],
   "source": [
    "for classif in [w2v_svc, w2v_rf, w2v_gbc]:\n",
    "    classif.fit(X_train, y_train)\n",
    "    y_pred = classif.predict(X_test)\n",
    "    score = f1_score(y_test, y_pred)\n",
    "    print(score)\n",
    "    "
   ]
  },
  {
   "cell_type": "markdown",
   "metadata": {},
   "source": [
    "### Уменьшение размерности для TF IDF"
   ]
  },
  {
   "cell_type": "markdown",
   "metadata": {},
   "source": [
    "Я решила уменьшить размерность, оставив только наиболее важные слова в текстах, т.е. которые появлялись бы в корпусе 2 раза и больше."
   ]
  },
  {
   "cell_type": "code",
   "execution_count": 193,
   "metadata": {},
   "outputs": [
    {
     "name": "stdout",
     "output_type": "stream",
     "text": [
      "они― стая бездомный xxx\n"
     ]
    }
   ],
   "source": [
    "vectorizer_2 = TfidfVectorizer(min_df=2)\n",
    "\n",
    "sents_tfidf_2 = [' '.join([x for x in sent if x != 'XXX' and x not in stop_words_421]) for sent in sents]\n",
    "print(sents_tfidf[2])"
   ]
  },
  {
   "cell_type": "code",
   "execution_count": 194,
   "metadata": {},
   "outputs": [],
   "source": [
    "X_train, X_test_raw, y_train, y_test = train_test_split(sents_tfidf_2, df['class'], test_size=0.25, random_state=1337)"
   ]
  },
  {
   "cell_type": "code",
   "execution_count": 195,
   "metadata": {},
   "outputs": [],
   "source": [
    "tfidf_svc_2 = LinearSVC(random_state=1337)\n",
    "tfidf_rf_2 = RandomForestClassifier(random_state=1337)\n",
    "tfidf_gbc_2 = GradientBoostingClassifier(n_estimators=250, random_state=1337)"
   ]
  },
  {
   "cell_type": "code",
   "execution_count": 196,
   "metadata": {},
   "outputs": [],
   "source": [
    "X_train = vectorizer_2.fit_transform(X_train)\n",
    "X_test = vectorizer_2.transform(X_test_raw)"
   ]
  },
  {
   "cell_type": "code",
   "execution_count": 197,
   "metadata": {},
   "outputs": [
    {
     "name": "stdout",
     "output_type": "stream",
     "text": [
      "0.7989556135770234\n",
      "0.7427184466019418\n",
      "0.7648456057007127\n"
     ]
    }
   ],
   "source": [
    "for classif in [tfidf_svc_2, tfidf_rf_2, tfidf_gbc_2]:\n",
    "    classif.fit(X_train, y_train)\n",
    "    y_pred = classif.predict(X_test)\n",
    "    score = f1_score(y_test, y_pred)\n",
    "    print(score)"
   ]
  },
  {
   "cell_type": "markdown",
   "metadata": {},
   "source": [
    "### Уменьшение размерности Word 2 Vec с 700 до 100"
   ]
  },
  {
   "cell_type": "code",
   "execution_count": 198,
   "metadata": {},
   "outputs": [
    {
     "name": "stderr",
     "output_type": "stream",
     "text": [
      "C:\\Anaconda3\\lib\\site-packages\\ipykernel_launcher.py:9: DeprecationWarning: Call to deprecated `__getitem__` (Method will be removed in 4.0.0, use self.wv.__getitem__() instead).\n",
      "  if __name__ == '__main__':\n"
     ]
    }
   ],
   "source": [
    "df_vectors_2 = []\n",
    "\n",
    "model_sto = gensim.models.Word2Vec(sents, size=100, window=2, min_count=5, workers=4)\n",
    "\n",
    "for sent in sents:\n",
    "    vec = []\n",
    "    for word in sent:\n",
    "        try:\n",
    "            vec.append(model_sto[word])\n",
    "        except:\n",
    "            pass\n",
    "    \n",
    "    try:\n",
    "        df_vectors_2.append(sum(vec)/len(vec))\n",
    "    except:\n",
    "        print(sent)"
   ]
  },
  {
   "cell_type": "code",
   "execution_count": 199,
   "metadata": {},
   "outputs": [],
   "source": [
    "X_train, X_test, y_train, y_test = train_test_split(df_vectors_2, df['class'], test_size=0.25, random_state=1337)"
   ]
  },
  {
   "cell_type": "code",
   "execution_count": 200,
   "metadata": {},
   "outputs": [],
   "source": [
    "sto_w2v_svc = LinearSVC(random_state=1337)\n",
    "sto_w2v_rf = RandomForestClassifier(random_state=1337)\n",
    "sto_w2v_gbc = GradientBoostingClassifier(n_estimators=250, random_state=1337)"
   ]
  },
  {
   "cell_type": "code",
   "execution_count": 201,
   "metadata": {},
   "outputs": [
    {
     "name": "stdout",
     "output_type": "stream",
     "text": [
      "0.5060240963855422\n",
      "0.47305389221556887\n",
      "0.6120218579234973\n"
     ]
    }
   ],
   "source": [
    "for classif in [sto_w2v_svc, sto_w2v_rf, sto_w2v_gbc]:\n",
    "    classif.fit(X_train, y_train)\n",
    "    y_pred = classif.predict(X_test)\n",
    "    score = f1_score(y_test, y_pred)\n",
    "    print(score)"
   ]
  },
  {
   "cell_type": "markdown",
   "metadata": {},
   "source": [
    "## Сравнение показателей"
   ]
  },
  {
   "cell_type": "markdown",
   "metadata": {},
   "source": [
    "* tfidf_svc, 0.8163265306122449\n",
    "* tfidf_rf, 0.7612293144208039\n",
    "* tfidf_gbc, 0.7718446601941747\n",
    "\n",
    "  \n",
    "* w2v_svc, 0.5225225225225225\n",
    "* w2v_rf, 0.4628571428571428\n",
    "* w2v_gbc,0.6170212765957447\n",
    "\n",
    "\n",
    "\n",
    "* tfidf_svc_2,  0.7989556135770234\n",
    "* tfidf_rf_2, 0.7427184466019418\n",
    "* tfidf_gbc_2, 0.7648456057007127\n",
    "\n",
    "\n",
    "* sto_w2v_svc, 0.5060240963855422\n",
    "* sto_w2v_rf, 0.47305389221556887\n",
    "* sto_w2v_gbc, 0.6120218579234973\n",
    "\n"
   ]
  },
  {
   "cell_type": "markdown",
   "metadata": {},
   "source": [
    "### Предсказание на своих примерах"
   ]
  },
  {
   "cell_type": "code",
   "execution_count": 202,
   "metadata": {},
   "outputs": [],
   "source": [
    "ex_dog = ['Собака лучший друг человека', 'Петя любит гулять со своей собакой','У нас во дворе живет пять собак', 'Собаки обожают когда им чешешь живот', 'Мне надо накормить свою собаку'] \n",
    "ex_dress = ['Маша купила новое платье вчера', 'В магазине продаются очень красивые платья','Я надела новое платье на праздник', 'На красную дорожку актрисы выходят в дорогих платьях', 'У Кати коллекция дорогих и красивых платьев'] "
   ]
  },
  {
   "cell_type": "code",
   "execution_count": 203,
   "metadata": {},
   "outputs": [
    {
     "name": "stdout",
     "output_type": "stream",
     "text": [
      "собака лучший друг человек\n",
      "prediction:[1]\n",
      "петя любит гулять со своей собака\n",
      "prediction:[1]\n",
      "у нас во дворе живет пять собака\n",
      "prediction:[1]\n",
      "собаки обожают когда им чешешь живот\n",
      "prediction:[0]\n",
      "мне надо накормить свою собак\n",
      "prediction:[1]\n"
     ]
    }
   ],
   "source": [
    "for sent in ex_dog:\n",
    "    sent = ''.join(morph.parse(sent)[0].normal_form)\n",
    "    vector = vectorizer.transform([sent])\n",
    "    print(sent)\n",
    "    print(('prediction:{}').format(tfidf_svc.predict(vector)))"
   ]
  },
  {
   "cell_type": "code",
   "execution_count": 204,
   "metadata": {},
   "outputs": [
    {
     "name": "stdout",
     "output_type": "stream",
     "text": [
      "маша купила новое платье вчера\n",
      "prediction:[0]\n",
      "в магазине продаются очень красивые платья\n",
      "prediction:[1]\n",
      "я надела новое платье на праздник\n",
      "prediction:[0]\n",
      "на красную дорожку актрисы выходят в дорогих платие\n",
      "prediction:[1]\n",
      "у кати коллекция дорогих и красивых платьев\n",
      "prediction:[1]\n"
     ]
    }
   ],
   "source": [
    "for sent1 in ex_dress:\n",
    "    sent1 = ''.join(morph.parse(sent1)[0].normal_form)\n",
    "    vector1 = vectorizer.transform([sent1])\n",
    "    print(sent1)\n",
    "    print(('prediction:{}').format(tfidf_svc.predict(vector1)))"
   ]
  },
  {
   "cell_type": "markdown",
   "metadata": {},
   "source": [
    "Несмотря, на то, что этот метод имеет самый лучший показатель (0.8163265306122449) из всех, он тоже часто ошибается. Особенно в примерах с платьем."
   ]
  },
  {
   "cell_type": "code",
   "execution_count": null,
   "metadata": {},
   "outputs": [],
   "source": []
  }
 ],
 "metadata": {
  "kernelspec": {
   "display_name": "Python 3",
   "language": "python",
   "name": "python3"
  },
  "language_info": {
   "codemirror_mode": {
    "name": "ipython",
    "version": 3
   },
   "file_extension": ".py",
   "mimetype": "text/x-python",
   "name": "python",
   "nbconvert_exporter": "python",
   "pygments_lexer": "ipython3",
   "version": "3.6.4"
  }
 },
 "nbformat": 4,
 "nbformat_minor": 2
}
